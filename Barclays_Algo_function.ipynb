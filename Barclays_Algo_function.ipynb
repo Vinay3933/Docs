{
 "cells": [
  {
   "cell_type": "code",
   "execution_count": 24,
   "metadata": {},
   "outputs": [],
   "source": [
    " def dist_from_capital(T):\n",
    "    import numpy as np\n",
    "    m = np.zeros(len(T)**2).reshape(len(T),len(T))\n",
    "    roads = [(i,T[i]) for i in range(len(T))]\n",
    "    roads1 = [(i,j) for (j,i) in roads]\n",
    "    roads1 = roads1 + roads\n",
    "    roads1 = list(set(roads1))\n",
    "    for (i,j) in roads1:\n",
    "        if i == j: \n",
    "            capital = i\n",
    "            m[i][j] = 2\n",
    "        else : m[i][j] = 1\n",
    "    d = dict()\n",
    "    temp = []\n",
    "    for i in range(len(T)):\n",
    "        if m[i][capital] == 1:\n",
    "            m[i][capital] = 2\n",
    "            temp.append((i,capital))\n",
    "    d[1] = temp\n",
    "    for x in range(2,len(T)):\n",
    "        temp = []\n",
    "        for (i,j) in d.get(x-1):\n",
    "            for y in range(len(T)):\n",
    "                if m[i][y] == 1:\n",
    "                    m[i][y] = 2\n",
    "                    temp.append((i,y))\n",
    "                if m[y][j] == 1:\n",
    "                    m[y][j] = 2\n",
    "                    temp.append((y,j))\n",
    "        d[x] = temp;\n",
    "    output_list = [len(v) for (k,v) in d.items()]\n",
    "    return output_list"
   ]
  },
  {
   "cell_type": "code",
   "execution_count": 25,
   "metadata": {},
   "outputs": [
    {
     "data": {
      "text/plain": [
       "[1, 3, 3, 2, 0, 0, 0, 0, 0]"
      ]
     },
     "execution_count": 25,
     "metadata": {},
     "output_type": "execute_result"
    }
   ],
   "source": [
    "dist_from_capital([9,1,0,5,0,0,2,9,9,1])"
   ]
  },
  {
   "cell_type": "code",
   "execution_count": 26,
   "metadata": {},
   "outputs": [
    {
     "data": {
      "text/plain": [
       "[4, 5, 0, 0, 0, 0, 0, 0, 0]"
      ]
     },
     "execution_count": 26,
     "metadata": {},
     "output_type": "execute_result"
    }
   ],
   "source": [
    "dist_from_capital([0,9,0,5,0,0,2,9,9,0])"
   ]
  },
  {
   "cell_type": "code",
   "execution_count": null,
   "metadata": {},
   "outputs": [],
   "source": []
  }
 ],
 "metadata": {
  "kernelspec": {
   "display_name": "Python 3",
   "language": "python",
   "name": "python3"
  },
  "language_info": {
   "codemirror_mode": {
    "name": "ipython",
    "version": 3
   },
   "file_extension": ".py",
   "mimetype": "text/x-python",
   "name": "python",
   "nbconvert_exporter": "python",
   "pygments_lexer": "ipython3",
   "version": "3.7.0"
  }
 },
 "nbformat": 4,
 "nbformat_minor": 2
}
